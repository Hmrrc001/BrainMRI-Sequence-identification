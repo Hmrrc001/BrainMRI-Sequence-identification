{
 "cells": [
  {
   "cell_type": "code",
   "execution_count": 1,
   "id": "3ae88f95",
   "metadata": {},
   "outputs": [],
   "source": [
    "import os\n",
    "import argparse\n",
    "from sklearn.model_selection import train_test_split\n",
    "from sklearn.metrics import confusion_matrix, classification_report\n",
    "from mlxtend.plotting import plot_confusion_matrix\n",
    "\n",
    "import torch\n",
    "from torch.utils.data import DataLoader\n",
    "import torchvision\n",
    "import torch.nn as nn\n",
    "\n",
    "from monai.networks.nets import DenseNet121, resnet50, EfficientNetBN, SEResNet50, SENet154\n",
    "from monai.transforms import *\n",
    "from monai.utils import set_determinism\n",
    "\n",
    "from ImageFolder import make_dataset\n",
    "from dataset import MRIDataset\n",
    "from EfficientNet import MyEfficientNet\n",
    "\n",
    "import warnings\n",
    "import pandas as pd\n",
    "warnings.filterwarnings('ignore')"
   ]
  },
  {
   "cell_type": "code",
   "execution_count": 2,
   "id": "fa1457d5",
   "metadata": {},
   "outputs": [],
   "source": [
    "set_determinism(seed=2021)"
   ]
  },
  {
   "cell_type": "code",
   "execution_count": 3,
   "id": "aa650c2f",
   "metadata": {},
   "outputs": [],
   "source": [
    "parser = argparse.ArgumentParser(description='evaluated parameters')\n",
    "\n",
    "parser.add_argument('--cuda', default='0', type=str, help='gpu id')\n",
    "parser.add_argument('--dataroot', default='../data/MRISeq/0628split')\n",
    "parser.add_argument('--classes', default='model/log/classes.csv', type=str)\n",
    "\n",
    "parser.add_argument('--batch', default=32, type=int, help='batch size')\n",
    "parser.add_argument('--stack', default=8, type=int, help='input channel')\n",
    "\n",
    "parser.add_argument('--model', default='EfficientNet', help='choose model')\n",
    "parser.add_argument('--save_path', default='../MRISeq_paper/Results/EfficientNet/20220809_stack8_lr1e-05_epochs100/')\n",
    "\n",
    "args = parser.parse_args(\"\")"
   ]
  },
  {
   "cell_type": "code",
   "execution_count": 4,
   "id": "3823af58",
   "metadata": {},
   "outputs": [],
   "source": [
    "os.environ[\"CUDA_VISIBLE_DEVICES\"] = args.cuda\n",
    "extensions = ('.gz',)"
   ]
  },
  {
   "cell_type": "code",
   "execution_count": 5,
   "id": "69b889b4",
   "metadata": {},
   "outputs": [],
   "source": [
    "## get all data\n",
    "img_label_dict, imgs, labels, classes, class_to_idx = make_dataset(args.dataroot, extensions=extensions)"
   ]
  },
  {
   "cell_type": "code",
   "execution_count": 6,
   "id": "c9d092ea",
   "metadata": {},
   "outputs": [
    {
     "name": "stdout",
     "output_type": "stream",
     "text": [
      "number of test data/all data\n",
      "{0: [39, 193], 1: [871, 4356], 2: [477, 2384], 3: [236, 1177], 4: [716, 3580], 5: [104, 522], 6: [90, 452], 7: [311, 1554], 8: [12, 62], 9: [880, 4398]}\n",
      "number of total test data: 3736\n"
     ]
    }
   ],
   "source": [
    "## get test dataset\n",
    "X_train_val, X_test, y_train_val, y_test = train_test_split(imgs, labels, test_size=0.2, random_state=42,\n",
    "                                                          stratify=labels)\n",
    "# count the number of each class\n",
    "testset = set(y_test)\n",
    "test_count = {}\n",
    "for cls in testset:\n",
    "    test_count.update({cls: [y_test.count(cls), labels.count(cls)]})\n",
    "print('number of test data/all data')\n",
    "print(test_count)\n",
    "print(f'number of total test data: {len(y_test)}')\n",
    "\n",
    "# build train files and val files\n",
    "test_data = []\n",
    "for i, j in zip(X_test, y_test):\n",
    "    test_data.append({'img': i, 'label': j})"
   ]
  },
  {
   "cell_type": "code",
   "execution_count": 7,
   "id": "c731b448",
   "metadata": {
    "scrolled": true
   },
   "outputs": [],
   "source": [
    "## transform and data loader\n",
    "val_transforms = Compose(\n",
    "        [\n",
    "            ScaleIntensityd(keys='img'),\n",
    "            EnsureTyped(keys=['img', 'label'])\n",
    "        ]\n",
    "    )\n",
    "\n",
    "test_ds = MRIDataset(data=test_data, stack=args.stack, transform=val_transforms)\n",
    "test_loader = DataLoader(test_ds, batch_size=args.batch, num_workers=4, pin_memory=torch.cuda.is_available())"
   ]
  },
  {
   "cell_type": "code",
   "execution_count": 8,
   "id": "7b429df2",
   "metadata": {},
   "outputs": [],
   "source": [
    "device = torch.device(\"cuda\" if torch.cuda.is_available() else \"cpu\")\n",
    "architecture = args.model\n",
    "if architecture == 'resnet50':\n",
    "    model = resnet50(spatial_dims=2, n_input_channels=args.stack, num_classes=len(classes),\n",
    "                     pretrained=False).to(device)\n",
    "\n",
    "elif architecture == 'densenet121':\n",
    "    model = DenseNet121(spatial_dims=2, in_channels=args.stack, out_channels=len(classes),\n",
    "                        pretrained=False).to(device)\n",
    "\n",
    "elif architecture == 'EfficientNetBN':\n",
    "    model = EfficientNetBN(\"efficientnet-b0\", spatial_dims=2, in_channels=args.stack,\n",
    "                           num_classes=len(classes), pretrained=False).to(device)\n",
    "    \n",
    "elif architecture == 'EfficientNet':\n",
    "    model = MyEfficientNet(\"efficientnet-b0\", spatial_dims=2, in_channels=args.stack,\n",
    "                               num_classes=len(classes), pretrained=False, dropout_rate=0.2).to(device)\n",
    "\n",
    "elif architecture == 'vgg16':\n",
    "    model = torchvision.models.vgg16(pretrained=False)\n",
    "    num_ftrs = model.classifier[6].in_features\n",
    "    model.classifier[6] = nn.Linear(num_ftrs, len(classes))\n",
    "    model.to(device)\n",
    "\n",
    "model_path = os.path.join(args.save_path, 'Saved_models/best_model.pth')\n",
    "model.load_state_dict(torch.load(model_path))\n",
    "model.eval()\n",
    "\n",
    "output_path = os.path.join(args.save_path, 'log')"
   ]
  },
  {
   "cell_type": "code",
   "execution_count": 9,
   "id": "1304d109",
   "metadata": {
    "scrolled": true
   },
   "outputs": [],
   "source": [
    "predict = []\n",
    "truth = []\n",
    "name = []\n",
    "with torch.no_grad():\n",
    "    y_prob = torch.tensor([], dtype=torch.float32, device=device)\n",
    "    y_true = torch.tensor([], dtype=torch.long, device=device)\n",
    "    num_correct = 0.0\n",
    "    metric_count = 0\n",
    "    for test_data in test_loader:\n",
    "        test_images, test_labels = test_data[\"img\"].to(device), test_data[\"label\"].to(device)\n",
    "        test_outputs = model(test_images).argmax(dim=1).detach().cpu().numpy().tolist()\n",
    "        true = test_data[\"label\"].numpy().tolist()\n",
    "        \n",
    "        y_prob = torch.cat([y_prob, model(test_images)], dim=0)  # probability\n",
    "        y_true = torch.cat([y_true, test_labels], dim=0)\n",
    "        \n",
    "        predict.extend(test_outputs)\n",
    "        name.extend(test_data['name'])\n",
    "        truth.extend(true)"
   ]
  },
  {
   "cell_type": "code",
   "execution_count": 10,
   "id": "29ce7ead",
   "metadata": {},
   "outputs": [],
   "source": [
    "# save predict with name\n",
    "df = pd.DataFrame()\n",
    "df['name'] = name\n",
    "df['pred'] = predict\n",
    "df['truth'] = truth\n",
    "df.to_csv(os.path.join(output_path, 'predict.csv'), index=False)"
   ]
  },
  {
   "cell_type": "code",
   "execution_count": 11,
   "id": "32090452",
   "metadata": {
    "scrolled": true
   },
   "outputs": [
    {
     "data": {
      "text/html": [
       "<div>\n",
       "<style scoped>\n",
       "    .dataframe tbody tr th:only-of-type {\n",
       "        vertical-align: middle;\n",
       "    }\n",
       "\n",
       "    .dataframe tbody tr th {\n",
       "        vertical-align: top;\n",
       "    }\n",
       "\n",
       "    .dataframe thead th {\n",
       "        text-align: right;\n",
       "    }\n",
       "</style>\n",
       "<table border=\"1\" class=\"dataframe\">\n",
       "  <thead>\n",
       "    <tr style=\"text-align: right;\">\n",
       "      <th></th>\n",
       "      <th>name</th>\n",
       "      <th>pred</th>\n",
       "      <th>truth</th>\n",
       "    </tr>\n",
       "  </thead>\n",
       "  <tbody>\n",
       "    <tr>\n",
       "      <th>0</th>\n",
       "      <td>../data/MRISeq/0628split/FLAIR_tra/0003596191_...</td>\n",
       "      <td>1</td>\n",
       "      <td>1</td>\n",
       "    </tr>\n",
       "    <tr>\n",
       "      <th>1</th>\n",
       "      <td>../data/MRISeq/0628split/MRA_head/0002218231_t...</td>\n",
       "      <td>2</td>\n",
       "      <td>2</td>\n",
       "    </tr>\n",
       "    <tr>\n",
       "      <th>2</th>\n",
       "      <td>../data/MRISeq/0628split/FLAIR_tra/0000247875_...</td>\n",
       "      <td>1</td>\n",
       "      <td>1</td>\n",
       "    </tr>\n",
       "    <tr>\n",
       "      <th>3</th>\n",
       "      <td>../data/MRISeq/0628split/Other/0016804057_t2_m...</td>\n",
       "      <td>3</td>\n",
       "      <td>3</td>\n",
       "    </tr>\n",
       "    <tr>\n",
       "      <th>4</th>\n",
       "      <td>../data/MRISeq/0628split/FLAIR_tra/0016323857_...</td>\n",
       "      <td>1</td>\n",
       "      <td>1</td>\n",
       "    </tr>\n",
       "  </tbody>\n",
       "</table>\n",
       "</div>"
      ],
      "text/plain": [
       "                                                name  pred  truth\n",
       "0  ../data/MRISeq/0628split/FLAIR_tra/0003596191_...     1      1\n",
       "1  ../data/MRISeq/0628split/MRA_head/0002218231_t...     2      2\n",
       "2  ../data/MRISeq/0628split/FLAIR_tra/0000247875_...     1      1\n",
       "3  ../data/MRISeq/0628split/Other/0016804057_t2_m...     3      3\n",
       "4  ../data/MRISeq/0628split/FLAIR_tra/0016323857_...     1      1"
      ]
     },
     "execution_count": 11,
     "metadata": {},
     "output_type": "execute_result"
    }
   ],
   "source": [
    "df.head()"
   ]
  },
  {
   "cell_type": "code",
   "execution_count": 12,
   "id": "a2674fb8",
   "metadata": {},
   "outputs": [],
   "source": [
    "# get last value\n",
    "y_pred = y_prob.argmax(dim=1).detach().cpu().numpy()  # get class\n",
    "y_nohot = y_true.detach().cpu().numpy()"
   ]
  },
  {
   "cell_type": "code",
   "execution_count": 13,
   "id": "4e7bd503",
   "metadata": {},
   "outputs": [],
   "source": [
    "classes = ['FLAIR_cor','FLAIR_tra','MRA','OTHER','T1w_tra','T1C_cor','T1C_sag','T1C_tra','T2w_sag','T2w_tra']"
   ]
  },
  {
   "cell_type": "code",
   "execution_count": 14,
   "id": "52c55e71",
   "metadata": {
    "scrolled": false
   },
   "outputs": [
    {
     "data": {
      "image/png": "[encoded data removed]",
      "text/plain": [
       "<Figure size 432x288 with 1 Axes>"
      ]
     },
     "metadata": {
      "needs_background": "light"
     },
     "output_type": "display_data"
    }
   ],
   "source": [
    "cf_matrix = confusion_matrix(y_nohot, y_pred)\n",
    "fig, ax = plot_confusion_matrix(conf_mat=cf_matrix,\n",
    "                                colorbar=False,\n",
    "                                show_absolute=True,\n",
    "                                show_normed=False,\n",
    "                                class_names=classes,\n",
    "                                )"
   ]
  },
  {
   "cell_type": "code",
   "execution_count": 15,
   "id": "be6aff60",
   "metadata": {},
   "outputs": [],
   "source": [
    "# cal precision, recall, f1-score\n",
    "metrics = classification_report(y_nohot, y_pred, target_names=classes, digits=3)"
   ]
  },
  {
   "cell_type": "code",
   "execution_count": 16,
   "id": "9101a1d0",
   "metadata": {
    "scrolled": false
   },
   "outputs": [
    {
     "name": "stdout",
     "output_type": "stream",
     "text": [
      "              precision    recall  f1-score   support\n",
      "\n",
      "   FLAIR_cor      1.000     0.923     0.960        39\n",
      "   FLAIR_tra      0.993     0.999     0.996       871\n",
      "         MRA      1.000     1.000     1.000       477\n",
      "       OTHER      0.987     0.983     0.985       236\n",
      "     T1w_tra      0.997     0.997     0.997       716\n",
      "     T1C_cor      1.000     0.990     0.995       104\n",
      "     T1C_sag      0.978     0.989     0.983        90\n",
      "     T1C_tra      0.997     0.990     0.994       311\n",
      "     T2w_sag      1.000     1.000     1.000        12\n",
      "     T2w_tra      0.999     1.000     0.999       880\n",
      "\n",
      "    accuracy                          0.996      3736\n",
      "   macro avg      0.995     0.987     0.991      3736\n",
      "weighted avg      0.996     0.996     0.996      3736\n",
      "\n"
     ]
    }
   ],
   "source": [
    "print(metrics)"
   ]
  },
  {
   "cell_type": "code",
   "execution_count": null,
   "id": "36206507",
   "metadata": {},
   "outputs": [],
   "source": []
  }
 ],
 "metadata": {
  "kernelspec": {
   "display_name": "Python 3 (ipykernel)",
   "language": "python",
   "name": "python3"
  },
  "language_info": {
   "codemirror_mode": {
    "name": "ipython",
    "version": 3
   },
   "file_extension": ".py",
   "mimetype": "text/x-python",
   "name": "python",
   "nbconvert_exporter": "python",
   "pygments_lexer": "ipython3",
   "version": "3.8.11"
  }
 },
 "nbformat": 4,
 "nbformat_minor": 5
}
